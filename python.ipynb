{
 "cells": [
  {
   "cell_type": "code",
   "execution_count": 7,
   "id": "b99872b6-8a2c-44cb-a4f7-14b4605f8ccb",
   "metadata": {},
   "outputs": [
    {
     "name": "stdin",
     "output_type": "stream",
     "text": [
      "알파벳 한자를 입력하세요: o\n"
     ]
    },
    {
     "name": "stdout",
     "output_type": "stream",
     "text": [
      "o 는 모음입니다.\n"
     ]
    }
   ],
   "source": [
    "# 4.1\n",
    "alpa = input(\"알파벳 한자를 입력하세요:\")\n",
    "if alpa == \"a\" or alpa == \"e\" or alpa == \"i\" or alpa == \"o\" or alpa == \"u\":\n",
    "    print(alpa, \"는 모음입니다.\")\n",
    "\n",
    "else:\n",
    "    print(alpa, \"는 자음입니다.\")"
   ]
  },
  {
   "cell_type": "code",
   "execution_count": 11,
   "id": "f7194bdb-3716-46f8-86d3-662a1d7f6d3e",
   "metadata": {},
   "outputs": [
    {
     "name": "stdin",
     "output_type": "stream",
     "text": [
      "알파벳을 입력하세요. r\n"
     ]
    },
    {
     "name": "stdout",
     "output_type": "stream",
     "text": [
      "r 는 자음입니다.\n"
     ]
    }
   ],
   "source": [
    "# 4.1 (2)\n",
    "vowels = [\"a\", \"e\", \"i\", \"o\", \"u\"]\n",
    "\n",
    "alp = input(\"알파벳을 입력하세요.\")\n",
    "if alp in vowels:\n",
    "    print(alp, \"는 모음입니다.\")\n",
    "\n",
    "else:\n",
    "    print(alp, \"는 자음입니다.\")"
   ]
  },
  {
   "cell_type": "code",
   "execution_count": 23,
   "id": "b371631b-2662-407b-9d4d-b5e22317f325",
   "metadata": {},
   "outputs": [
    {
     "name": "stdin",
     "output_type": "stream",
     "text": [
      "세 개의 정수를 입력하세요 : 4122 9 4\n"
     ]
    },
    {
     "data": {
      "text/plain": [
       "[4, 9, 4122]"
      ]
     },
     "execution_count": 23,
     "metadata": {},
     "output_type": "execute_result"
    }
   ],
   "source": [
    "# 4.2\n",
    "# input(\"세 개의 정수를 입력하세요 :\").split(\" \")\n",
    "# list(map(int, input(\"세 개의 정수를 입력하세요 :\").split()))\n",
    "num = map(int, input(\"세 개의 정수를 입력하세요 :\").split())\n",
    "sorted(num, reverse = False)\n"
   ]
  },
  {
   "cell_type": "code",
   "execution_count": 27,
   "id": "3c648b85-cca0-4257-b1c7-291aaa9cb294",
   "metadata": {},
   "outputs": [
    {
     "name": "stdout",
     "output_type": "stream",
     "text": [
      "youth\n"
     ]
    }
   ],
   "source": [
    "# 4.3\n",
    "age = 11\n",
    "if age >= 20:\n",
    "    print(\"adult\")\n",
    "\n",
    "elif age > 10:\n",
    "    print(\"youth\")\n",
    "\n",
    "else:\n",
    "    print(\"kid\")"
   ]
  },
  {
   "cell_type": "code",
   "execution_count": 28,
   "id": "5989866b-952f-48a8-a6d7-da3795c4b104",
   "metadata": {},
   "outputs": [
    {
     "name": "stdout",
     "output_type": "stream",
     "text": [
      "2(으)로 나눠 떨어지지 않습니다.\n",
      "3(으)로 나눠 떨어집니다.\n"
     ]
    }
   ],
   "source": [
    "# 4.4\n",
    "num = 15\n",
    "if num % 2 == 0:\n",
    "    print(\"2(으)로 나눠 떨어집니다.\")\n",
    "else:\n",
    "    print(\"2(으)로 나눠 떨어지지 않습니다.\")\n",
    "if num % 3 == 0:\n",
    "    print(\"3(으)로 나눠 떨어집니다.\")\n"
   ]
  },
  {
   "cell_type": "code",
   "execution_count": 36,
   "id": "73fb12a6-6aac-4495-967f-e7bf875b7f25",
   "metadata": {},
   "outputs": [
    {
     "name": "stdin",
     "output_type": "stream",
     "text": [
      "복권 숫자 세 개: 45 2 6\n"
     ]
    }
   ],
   "source": [
    "# 4.5\n",
    "import random\n",
    "a, b, c = random.randint(0, 9), random.randint(0, 9), random.randint(0, 9)\n",
    "q, w, e = map(int, input(\"복권 숫자 세 개:\").split())"
   ]
  },
  {
   "cell_type": "code",
   "execution_count": 37,
   "id": "20dc2268-7daf-4d5d-9ac4-94b9594807c6",
   "metadata": {},
   "outputs": [],
   "source": [
    "if q == a or q == b or q == c:\n",
    "   if w == a or w == b or w == c:\n",
    "       if e == a or e == b or e == c:\n",
    "           print(\"1억원\")\n",
    "       else:\n",
    "           print(\"1천만원\")"
   ]
  },
  {
   "cell_type": "code",
   "execution_count": 38,
   "id": "9abc2551-4b70-4dc6-b4e9-1c61f0c8e8c5",
   "metadata": {},
   "outputs": [
    {
     "name": "stdout",
     "output_type": "stream",
     "text": [
      "천만원\n"
     ]
    }
   ],
   "source": [
    "a, b, c = 9, 3, 7\n",
    "q, w, e = 7, 2, 9\n",
    "\n",
    "cnt = 0\n",
    "\n",
    "for i in [q, w, e]:\n",
    "    if i == a or i == b or i == c:\n",
    "        cnt += 1\n",
    "\n",
    "if cnt == 0:\n",
    "    print(\"꽝\")\n",
    "elif cnt == 1:\n",
    "    print(\"만원\")\n",
    "\n",
    "elif cnt == 2:\n",
    "    print(\"천만원\")\n",
    "\n",
    "elif cnt == 3:\n",
    "    print(\"일억원\")"
   ]
  },
  {
   "cell_type": "code",
   "execution_count": 40,
   "id": "8ad6dc62-d869-42f5-9827-aef27167f998",
   "metadata": {},
   "outputs": [
    {
     "name": "stdout",
     "output_type": "stream",
     "text": [
      "우리식당에 오신 것을 환영합니다. 메뉴는 다음과 같습니다. \n",
      "-햄버거(b)\n",
      "-치킨(c)\n",
      "-피자(p)\n"
     ]
    },
    {
     "name": "stdin",
     "output_type": "stream",
     "text": [
      "메뉴를 선택하세요(b, c, p) : b\n"
     ]
    },
    {
     "name": "stdout",
     "output_type": "stream",
     "text": [
      "햄버거\n"
     ]
    }
   ],
   "source": [
    "# 4.6\n",
    "print(\"우리식당에 오신 것을 환영합니다. 메뉴는 다음과 같습니다. \\n-햄버거(b)\\n-치킨(c)\\n-피자(p)\")\n",
    "menu = input(\"메뉴를 선택하세요(b, c, p) :\")\n",
    "\n",
    "if menu == \"b\":\n",
    "    print(\"햄버거\")\n",
    "\n",
    "elif menu == \"c\":\n",
    "    print(\"치킨\")\n",
    "\n",
    "elif menu == \"p\":\n",
    "    print(\"피자\")\n",
    "\n",
    "else:\n",
    "    print(\"메뉴 입력이 틀렸어요\")"
   ]
  },
  {
   "cell_type": "code",
   "execution_count": 43,
   "id": "858b18b7-a083-49fe-8221-926ec94e11ea",
   "metadata": {},
   "outputs": [
    {
     "name": "stdin",
     "output_type": "stream",
     "text": [
      "6 + 98 =  5\n"
     ]
    },
    {
     "name": "stdout",
     "output_type": "stream",
     "text": [
      "답은 104\n"
     ]
    }
   ],
   "source": [
    "# 4.7\n",
    "import random\n",
    "\n",
    "a, b = random.randint(1, 100), random.randint(1, 100)\n",
    "s = int(input(f\"{a} + {b} = \"))\n",
    "\n",
    "if s == a + b:\n",
    "    print(\"gj\")\n",
    "\n",
    "else:\n",
    "    print(f\"답은 {a + b}\")"
   ]
  },
  {
   "cell_type": "code",
   "execution_count": 44,
   "id": "3b5a6fc6-65f2-4107-8a9d-2f127d733306",
   "metadata": {},
   "outputs": [
    {
     "name": "stdout",
     "output_type": "stream",
     "text": [
      "1 3 5 7 9 11 13 15 17 19 21 23 25 27 29 31 33 35 37 39 41 43 45 47 49 51 53 55 57 59 61 63 65 67 69 71 73 75 77 79 81 83 85 87 89 91 93 95 97 99 "
     ]
    }
   ],
   "source": [
    "# 5.1\n",
    "for i in range(1, 101):\n",
    "    if i % 2 == 1:\n",
    "        print(i, end = \" \")"
   ]
  },
  {
   "cell_type": "code",
   "execution_count": 50,
   "id": "03f10de0-24ca-4dd2-b4b6-d632ebbf0e64",
   "metadata": {},
   "outputs": [
    {
     "name": "stdout",
     "output_type": "stream",
     "text": [
      "1 3 5 7 9 11 13 15 17 19 21 23 25 27 29 31 33 35 37 39 41 43 45 47 49 51 53 55 57 59 61 63 65 67 69 71 73 75 77 79 81 83 85 87 89 91 93 95 97 99 "
     ]
    }
   ],
   "source": [
    "# 5.1 2nd way\n",
    "i = 1 \n",
    "while i < 101:\n",
    "#    if i % 2 == 1:\n",
    "        print(i, end = \" \")\n",
    "        i += 2"
   ]
  },
  {
   "cell_type": "code",
   "execution_count": 53,
   "id": "1e253c06-4bb6-4210-889e-d1c7d8b2e796",
   "metadata": {},
   "outputs": [
    {
     "name": "stdout",
     "output_type": "stream",
     "text": [
      "2500\n"
     ]
    }
   ],
   "source": [
    "# 5.2\n",
    "s = 0\n",
    "for i in range(1, 101, 2):\n",
    "    s += i\n",
    "\n",
    "print(s)"
   ]
  },
  {
   "cell_type": "code",
   "execution_count": 1,
   "id": "9ea34895-1fb0-40d7-89da-90633f1c00fa",
   "metadata": {},
   "outputs": [
    {
     "name": "stdout",
     "output_type": "stream",
     "text": [
      "우리식당에 오신 것을 환영합니다. 메뉴는 다음과 같습니다. \n",
      "-햄버거(1)\n",
      "-치킨(2)\n",
      "-피자(3)\n"
     ]
    },
    {
     "name": "stdin",
     "output_type": "stream",
     "text": [
      "메뉴를 선택하세요:  5\n"
     ]
    },
    {
     "name": "stdout",
     "output_type": "stream",
     "text": [
      "메뉴를 다시 입력하세요 :\n"
     ]
    },
    {
     "name": "stdin",
     "output_type": "stream",
     "text": [
      "메뉴를 선택하세요:  6\n"
     ]
    },
    {
     "name": "stdout",
     "output_type": "stream",
     "text": [
      "메뉴를 다시 입력하세요 :\n"
     ]
    },
    {
     "name": "stdin",
     "output_type": "stream",
     "text": [
      "메뉴를 선택하세요:  3\n"
     ]
    },
    {
     "name": "stdout",
     "output_type": "stream",
     "text": [
      "피자\n"
     ]
    }
   ],
   "source": [
    "# 5.3\n",
    "print(\"우리식당에 오신 것을 환영합니다. 메뉴는 다음과 같습니다. \\n-햄버거(1)\\n-치킨(2)\\n-피자(3)\")\n",
    "\n",
    "while True:\n",
    "    menu = input(\"메뉴를 선택하세요: \")\n",
    "    if menu == \"1\":\n",
    "        print(\"함버거\")\n",
    "        break\n",
    "    elif menu == \"2\":\n",
    "        print(\"치킨\")\n",
    "        break\n",
    "    elif menu == \"3\":\n",
    "        print(\"피자\")\n",
    "        break\n",
    "    else:\n",
    "        print(\"메뉴를 다시 입력하세요 :\")\n",
    "    "
   ]
  },
  {
   "cell_type": "code",
   "execution_count": 2,
   "id": "e30d9ac3-576b-40c8-9961-6b4369d2dff2",
   "metadata": {},
   "outputs": [
    {
     "name": "stdout",
     "output_type": "stream",
     "text": [
      "    *\n",
      "   **\n",
      "  ***\n",
      " ****\n",
      "*****\n"
     ]
    }
   ],
   "source": [
    "# 5.4\n",
    "for i in range(1, 6):\n",
    "    print(\" \"*(5-i) + \"*\" *i)"
   ]
  },
  {
   "cell_type": "code",
   "execution_count": 6,
   "id": "b27b1839-6e7e-4962-a25f-c3f7134c5aac",
   "metadata": {},
   "outputs": [
    {
     "name": "stdout",
     "output_type": "stream",
     "text": [
      "day:  1, 위치:  7\n",
      "day:  2, 위치:  9\n",
      "day:  3, 위치: 11\n",
      "day:  4, 위치: 13\n",
      "day:  5, 위치: 15\n",
      "day:  6, 위치: 17\n",
      "day:  7, 위치: 19\n",
      "day:  8, 위치: 21\n",
      "day:  9, 위치: 23\n",
      "day: 10, 위치: 25\n",
      "day: 11, 위치: 27\n",
      "day: 12, 위치: 29\n",
      "day: 13, 위치: 31\n",
      "우물 탈출 13일이 걸렸다잉\n"
     ]
    }
   ],
   "source": [
    "# 5.5\n",
    "days = 1\n",
    "position = 0\n",
    "\n",
    "while True:\n",
    "    position += 7\n",
    "    print(f\"day: {days:2d}, 위치:{position:3d}\")\n",
    "    if position > 30:\n",
    "        break\n",
    "    position -= 5\n",
    "    days += 1\n",
    "\n",
    "print(f\"우물 탈출 {days}일이 걸렸다잉\")"
   ]
  },
  {
   "cell_type": "code",
   "execution_count": null,
   "id": "0633e432-94e6-45da-b9f9-f697034fc722",
   "metadata": {},
   "outputs": [],
   "source": []
  }
 ],
 "metadata": {
  "kernelspec": {
   "display_name": "Python 3 (ipykernel)",
   "language": "python",
   "name": "python3"
  },
  "language_info": {
   "codemirror_mode": {
    "name": "ipython",
    "version": 3
   },
   "file_extension": ".py",
   "mimetype": "text/x-python",
   "name": "python",
   "nbconvert_exporter": "python",
   "pygments_lexer": "ipython3",
   "version": "3.11.2"
  }
 },
 "nbformat": 4,
 "nbformat_minor": 5
}
